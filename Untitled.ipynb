{
 "cells": [
  {
   "cell_type": "code",
   "execution_count": 1,
   "metadata": {},
   "outputs": [
    {
     "name": "stdout",
     "output_type": "stream",
     "text": [
      "['レビュー', 'Popular singles', 'Marcellis - Sleep EP ', 'NonPlus+', 'Miyako Koda - In The Shadow Of Jupiter', '17853 Records', 'Ricardo Villalobos & Oren Ambarchi - Hubris Variation', 'Black Truffle Records', 'Yoshinori Hayashi - Asylum EP', 'Lovers Rock', 'Miyako Koda - In The Shadow Of Jupiter', '17853 Records', 'Marcellis - Sleep EP ', 'NonPlus+', 'Ricardo Villalobos & Oren Ambarchi - Hubris Variation', 'Black Truffle Records', 'Yoshinori Hayashi - Asylum EP', 'Lovers Rock', 'The Maghreban - Brooklyn / The Carpenters', 'Black Acre', 'DJ Stingray - Psyops For Dummies + Purge', 'Presto!?', 'D.F.X. - Relax Your Body', 'Autum', 'Yally - Burnt / Sudo', 'Boomkat Editions', 'Various - Vol. II', 'DisDat', 'A Made Up Sound - Bygones / Peace Offering', 'A Made Up Sound', 'Renick Bell - Empty Lake EP', 'UIQ', 'Mei Tahat - Dayworld', 'Berceuse Heroique', 'Marc Philipp & Nils Weimann - Mupasario', 'Epilog', \"Xali'p - Glass Horizon\", 'Acting Press', 'Mall Grab - I Just Wanna', 'Hot Haus Recs', 'Wicked Witch - Under Your Spell', 'EM Records', 'Shinichi Atobe - Rebuild Mix 1.2.3.', 'Jadac Recordings', 'Lorenzo Senni - Persona', 'Warp Records', 'Porter Ricks - Shadow Boat EP', 'Tresor', 'Harvey Sutherland And Bermuda - Priestess / Bravado', 'Clarity Recordings', 'Seekersinternational - Ragga Preservation Society EP', 'Diskotopia', 'LOFT - Turbulent Dynamics', 'Astral Plane Recordings', 'V.O. - Mashisa', 'Invisible City Editions', 'Maayan Nidam - Deep Under Sobriety Regime', 'Perlon', 'Call Super - New Life Tones', 'Houndstooth', 'Jeff Mills - The Kill Zone', 'Axis Records', 'Matrixxman & Echologist - The Black & White EP', 'Planet Rhythm Records', 'Blotter Trax - Blotter Trax', '(312) Records', 'Hokuto Sato - Deja Vu', 'Aura Music', 'Herbert - See You On Monday', 'Curle Recordings', 'A Band Called Flash - A Band Called Flash EP', 'Future Vision Records', \"Charles Noel - Sur Le Nid D'oiseau Aussi\", 'Moto Music']\n",
      "0                                             レビュー\n",
      "1                                  Popular singles\n",
      "2                            Marcellis - Sleep EP \n",
      "3                                         NonPlus+\n",
      "4           Miyako Koda - In The Shadow Of Jupiter\n",
      "                          ...                     \n",
      "69                                Curle Recordings\n",
      "70    A Band Called Flash - A Band Called Flash EP\n",
      "71                           Future Vision Records\n",
      "72        Charles Noel - Sur Le Nid D'oiseau Aussi\n",
      "73                                      Moto Music\n",
      "Length: 74, dtype: object\n",
      "                                                    A                      B\n",
      "0                               Marcellis - Sleep EP                NonPlus+\n",
      "1              Miyako Koda - In The Shadow Of Jupiter          17853 Records\n",
      "2   Ricardo Villalobos & Oren Ambarchi - Hubris Va...  Black Truffle Records\n",
      "3                       Yoshinori Hayashi - Asylum EP            Lovers Rock\n",
      "4              Miyako Koda - In The Shadow Of Jupiter          17853 Records\n",
      "5                               Marcellis - Sleep EP                NonPlus+\n",
      "6   Ricardo Villalobos & Oren Ambarchi - Hubris Va...  Black Truffle Records\n",
      "7                       Yoshinori Hayashi - Asylum EP            Lovers Rock\n",
      "8           The Maghreban - Brooklyn / The Carpenters             Black Acre\n",
      "9            DJ Stingray - Psyops For Dummies + Purge               Presto!?\n",
      "10                           D.F.X. - Relax Your Body                  Autum\n",
      "11                               Yally - Burnt / Sudo       Boomkat Editions\n",
      "12                                  Various - Vol. II                 DisDat\n",
      "13         A Made Up Sound - Bygones / Peace Offering        A Made Up Sound\n",
      "14                        Renick Bell - Empty Lake EP                    UIQ\n",
      "15                               Mei Tahat - Dayworld      Berceuse Heroique\n",
      "16            Marc Philipp & Nils Weimann - Mupasario                 Epilog\n",
      "17                             Xali'p - Glass Horizon           Acting Press\n"
     ]
    },
    {
     "name": "stderr",
     "output_type": "stream",
     "text": [
      "/Users/hidetoshi/.pyenv/versions/3.6.3/envs/test01/lib/python3.6/site-packages/ipykernel_launcher.py:16: DeprecationWarning: The default dtype for empty Series will be 'object' instead of 'float64' in a future version. Specify a dtype explicitly to silence this warning.\n",
      "  app.launch_new_instance()\n"
     ]
    }
   ],
   "source": [
    "import requests\n",
    "from bs4 import BeautifulSoup\n",
    "import pandas as pd\n",
    "\n",
    "res = requests.get('https://jp.residentadvisor.net/reviews.aspx?format=single')\n",
    "soup = BeautifulSoup(res.text, 'html.parser')\n",
    "text = [i.get_text() for i in soup.select('h1')]\n",
    "print(text)\n",
    "\n",
    "text = pd.Series(text)\n",
    "print(text)\n",
    "\n",
    "drop_idx = [0, 1]\n",
    "text = text.drop(drop_idx)\n",
    "\n",
    "album = pd.Series()\n",
    "cols = ['col1', 'col2']\n",
    "df = pd.DataFrame(index=[], columns=list('AB'))\n",
    "\n",
    "b = len(text.index)\n",
    "b = b//2 -1\n",
    "for i in range(0,b,2):\n",
    "    tmp = pd.Series([text.iloc[i],text.iloc[i+1]], index = df.columns)\n",
    "    df =  df.append(tmp, ignore_index=True)\n",
    "\n",
    "    b = len(text.index)\n",
    "\n",
    "print(df)"
   ]
  },
  {
   "cell_type": "code",
   "execution_count": 57,
   "metadata": {
    "scrolled": true
   },
   "outputs": [
    {
     "name": "stdout",
     "output_type": "stream",
     "text": [
      "<selenium.webdriver.remote.webelement.WebElement (session=\"732d5ce6a552a8fad6e65519afb64e88\", element=\"0.6129141974780459-2\")>\n"
     ]
    }
   ],
   "source": [
    "\n",
    "import time\n",
    "from selenium import webdriver\n",
    "from selenium.webdriver.support.ui import WebDriverWait\n",
    "from selenium.webdriver.support import expected_conditions as EC\n",
    "from selenium.webdriver.common.keys import Keys\n",
    "from selenium.webdriver.common.by import By\n",
    "import time\n",
    "from selenium.webdriver.support.ui import WebDriverWait as Wait\n",
    "from selenium.webdriver.common.action_chains import ActionChains\n",
    "from selenium.common.exceptions import StaleElementReferenceException\n",
    "from selenium.common.exceptions import NoSuchElementException\n",
    "from selenium.webdriver import ActionChains\n",
    "ignored_exceptions=(StaleElementReferenceException,NoSuchElementException)\n",
    "\n",
    "def wdwfind(path):\n",
    "    return WebDriverWait(driver, 15,ignored_exceptions=ignored_exceptions).until(\n",
    "            EC.presence_of_element_located((By.XPATH,(path))))\n",
    "\n",
    "driver = webdriver.Chrome()\n",
    "driver.get('https://open.spotify.com/search')\n",
    "time.sleep(1)\n",
    "driver.find_element_by_class_name(\"_1edf52628d509e6baded2387f6267588-scss\").click()\n",
    "\n",
    "time.sleep(1)\n",
    "driver.find_element_by_id('login-username').send_keys(\"ochokocho@gmail.com\")\n",
    "driver.find_element_by_id('login-password').send_keys(\"fizzfuzz\")\n",
    "driver.find_element_by_id('login-button').click()\n",
    "time.sleep(2)\n",
    "driver.find_element_by_class_name('_2f8ed265fb69fb70c0c9afef329ae0b6-scss').send_keys(\"A Made Up Sound - Bygones\")\n",
    "time.sleep(1)\n",
    "\n",
    "print(element)\n",
    "song = WebDriverWait(driver, 10).until(\n",
    "        EC.visibility_of_element_located((By.XPATH, \"//div[@class='f79dd23c27c3352da3ac3ba62d78f8ea-scss']\")))\n",
    "actionChains = ActionChains(driver)\n",
    "\n",
    "actionChains.context_click(song).perform()\n",
    "\n",
    "wdwfind(\"//nav/div[1]\").click() #Selecting the add to playlist option\n",
    "#element = WebDriverWait(driver, 10).until(EC.visibility_of_element_located((By.XPATH, \"//*[text()='Add to Playlist']\")))\n",
    "#element.click()"
   ]
  },
  {
   "cell_type": "code",
   "execution_count": 37,
   "metadata": {},
   "outputs": [
    {
     "ename": "TimeoutException",
     "evalue": "Message: \n",
     "output_type": "error",
     "traceback": [
      "\u001b[0;31m---------------------------------------------------------------------------\u001b[0m",
      "\u001b[0;31mTimeoutException\u001b[0m                          Traceback (most recent call last)",
      "\u001b[0;32m<ipython-input-37-a0b67b9a50af>\u001b[0m in \u001b[0;36m<module>\u001b[0;34m\u001b[0m\n\u001b[1;32m     20\u001b[0m \u001b[0;34m\u001b[0m\u001b[0m\n\u001b[1;32m     21\u001b[0m element = WebDriverWait(driver, 10).until(\n\u001b[0;32m---> 22\u001b[0;31m EC.visibility_of_element_located((By.XPATH, \"//li[2]/div/a/div/span\")))\n\u001b[0m\u001b[1;32m     23\u001b[0m \u001b[0melement\u001b[0m\u001b[0;34m.\u001b[0m\u001b[0mclick\u001b[0m\u001b[0;34m(\u001b[0m\u001b[0;34m)\u001b[0m\u001b[0;34m\u001b[0m\u001b[0m\n\u001b[1;32m     24\u001b[0m WebDriverWait(driver, 20).until(\n",
      "\u001b[0;32m~/.pyenv/versions/3.6.3/envs/test01/lib/python3.6/site-packages/selenium/webdriver/support/wait.py\u001b[0m in \u001b[0;36muntil\u001b[0;34m(self, method, message)\u001b[0m\n\u001b[1;32m     78\u001b[0m             \u001b[0;32mif\u001b[0m \u001b[0mtime\u001b[0m\u001b[0;34m.\u001b[0m\u001b[0mtime\u001b[0m\u001b[0;34m(\u001b[0m\u001b[0;34m)\u001b[0m \u001b[0;34m>\u001b[0m \u001b[0mend_time\u001b[0m\u001b[0;34m:\u001b[0m\u001b[0;34m\u001b[0m\u001b[0m\n\u001b[1;32m     79\u001b[0m                 \u001b[0;32mbreak\u001b[0m\u001b[0;34m\u001b[0m\u001b[0m\n\u001b[0;32m---> 80\u001b[0;31m         \u001b[0;32mraise\u001b[0m \u001b[0mTimeoutException\u001b[0m\u001b[0;34m(\u001b[0m\u001b[0mmessage\u001b[0m\u001b[0;34m,\u001b[0m \u001b[0mscreen\u001b[0m\u001b[0;34m,\u001b[0m \u001b[0mstacktrace\u001b[0m\u001b[0;34m)\u001b[0m\u001b[0;34m\u001b[0m\u001b[0m\n\u001b[0m\u001b[1;32m     81\u001b[0m \u001b[0;34m\u001b[0m\u001b[0m\n\u001b[1;32m     82\u001b[0m     \u001b[0;32mdef\u001b[0m \u001b[0muntil_not\u001b[0m\u001b[0;34m(\u001b[0m\u001b[0mself\u001b[0m\u001b[0;34m,\u001b[0m \u001b[0mmethod\u001b[0m\u001b[0;34m,\u001b[0m \u001b[0mmessage\u001b[0m\u001b[0;34m=\u001b[0m\u001b[0;34m''\u001b[0m\u001b[0;34m)\u001b[0m\u001b[0;34m:\u001b[0m\u001b[0;34m\u001b[0m\u001b[0m\n",
      "\u001b[0;31mTimeoutException\u001b[0m: Message: \n"
     ]
    }
   ],
   "source": [
    "from selenium import webdriver\n",
    "from selenium.webdriver.support.ui import WebDriverWait\n",
    "from selenium.webdriver.support import expected_conditions as EC\n",
    "from selenium.webdriver.common.keys import Keys\n",
    "from selenium.webdriver.common.by import By\n",
    "import time\n",
    "from selenium.webdriver.support.ui import WebDriverWait as Wait\n",
    "from selenium.webdriver.common.action_chains import ActionChains\n",
    "from selenium.common.exceptions import StaleElementReferenceException\n",
    "from selenium.common.exceptions import NoSuchElementException\n",
    "from selenium.webdriver import ActionChains\n",
    "\n",
    "# Open Chrome\n",
    "driver = webdriver.Chrome()\n",
    "driver.get(\"https://open.spotify.com/browse/featured\")\n",
    "\n",
    "\n",
    "\n",
    "\n",
    "\n",
    "element = WebDriverWait(driver, 10).until(\n",
    "EC.visibility_of_element_located((By.XPATH, \"//li[2]/div/a/div/span\")))\n",
    "element.click()\n",
    "WebDriverWait(driver, 20).until(\n",
    "EC.visibility_of_element_located((By.XPATH,\"//input[@class='SearchInputBox__input']\"))).send_keys(\"songs\")\n",
    "\n",
    "\n",
    "driver.find_element_by_xpath(\"//*[text()='Log in']\").click()\n",
    "\n",
    "WebDriverWait(driver, 20).until(\n",
    "EC.visibility_of_element_located((By.XPATH,\"//input[@id='login-username']\"))).send_keys(\"ochokocho@gmail.com\")\n",
    "\n",
    "WebDriverWait(driver, 20).until(\n",
    "EC.visibility_of_element_located((By.XPATH,\"//input[@id='login-password']\"))).send_keys(\"fizzfuzz\")\n",
    "\n",
    "WebDriverWait(driver, 10).until(\n",
    "EC.visibility_of_element_located((By.XPATH, \"//button[@id='login-button']\"))).click()\n",
    "\n",
    "items = WebDriverWait(driver, 20).until(EC.presence_of_all_elements_located((By.XPATH, \"//div[@class='react-contextmenu-wrapper']/div/div/a\")))\n",
    "print(len(items))\n",
    "\n",
    "song = [\"pyramidsong\",\"tender\"]\n",
    "for song in items:\n",
    "    print(song.text)\n",
    "    actionChains = ActionChains(driver)\n",
    "\n",
    "    actionChains.context_click(song).perform()\n",
    "    element = WebDriverWait(driver, 10).until(\n",
    "        EC.visibility_of_element_located((By.XPATH, \"//*[text()='Add to Playlist']\")))\n",
    "    element.click()\n",
    "\n",
    "    element12 = WebDriverWait(driver, 10).until(\n",
    "        EC.visibility_of_element_located((By.XPATH, \"//button[@class='btn asideButton-button btn-green btn-small']\")))\n",
    "    actionChains.move_to_element(element12).click().perform()\n",
    "    actionChains.context_click(song).perform()\n",
    "    element00=WebDriverWait(driver, 20).until(\n",
    "        EC.visibility_of_element_located((By.XPATH, \"//input[@class='inputBox-input']\"))).send_keys(\"testPlayList\")\n",
    "\n",
    "    element11 = WebDriverWait(driver, 10).until(\n",
    "        EC.visibility_of_element_located((By.XPATH, \"//div[@class='button-group button-group--horizontal']//div[2]/button\")))\n",
    "    actionChains.move_to_element(element11).click().perform()\n",
    "\n",
    "    elem=WebDriverWait(driver, 20).until(\n",
    "        EC.visibility_of_element_located((By.XPATH, \"//div[@class='TrackListHeader__entity-name']//span\")))\n",
    "    print(elem.text)\n",
    "    break\n",
    "print(sys.version)"
   ]
  },
  {
   "cell_type": "code",
   "execution_count": 5,
   "metadata": {},
   "outputs": [
    {
     "name": "stdout",
     "output_type": "stream",
     "text": [
      "Requirement already satisfied: requests in /Users/hidetoshi/.pyenv/versions/anaconda3-5.0.0/lib/python3.6/site-packages (2.18.4)\n",
      "Requirement already satisfied: chardet<3.1.0,>=3.0.2 in /Users/hidetoshi/.pyenv/versions/anaconda3-5.0.0/lib/python3.6/site-packages (from requests) (3.0.4)\n",
      "Requirement already satisfied: idna<2.7,>=2.5 in /Users/hidetoshi/.pyenv/versions/anaconda3-5.0.0/lib/python3.6/site-packages (from requests) (2.6)\n",
      "Requirement already satisfied: urllib3<1.23,>=1.21.1 in /Users/hidetoshi/.pyenv/versions/anaconda3-5.0.0/lib/python3.6/site-packages (from requests) (1.22)\n",
      "Requirement already satisfied: certifi>=2017.4.17 in /Users/hidetoshi/.pyenv/versions/anaconda3-5.0.0/lib/python3.6/site-packages (from requests) (2017.7.27.1)\n",
      "\u001b[33mWARNING: You are using pip version 19.3.1; however, version 20.1 is available.\n",
      "You should consider upgrading via the 'pip install --upgrade pip' command.\u001b[0m\n"
     ]
    }
   ],
   "source": [
    "!pip3 install requests"
   ]
  },
  {
   "cell_type": "code",
   "execution_count": null,
   "metadata": {
    "collapsed": true
   },
   "outputs": [],
   "source": []
  }
 ],
 "metadata": {
  "kernelspec": {
   "display_name": "test01",
   "language": "python",
   "name": "test01"
  },
  "language_info": {
   "codemirror_mode": {
    "name": "ipython",
    "version": 3
   },
   "file_extension": ".py",
   "mimetype": "text/x-python",
   "name": "python",
   "nbconvert_exporter": "python",
   "pygments_lexer": "ipython3",
   "version": "3.6.3"
  }
 },
 "nbformat": 4,
 "nbformat_minor": 2
}
